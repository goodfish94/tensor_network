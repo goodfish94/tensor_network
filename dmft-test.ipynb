{
 "cells": [
  {
   "cell_type": "code",
   "execution_count": 1,
   "metadata": {},
   "outputs": [],
   "source": [
    "import numpy as np\n",
    "import matplotlib.pyplot as plt\n",
    "import os\n",
    "\n",
    "import pandas as pd\n",
    "from numpy import linalg \n",
    "# plot setting \n",
    "import matplotlib as mpl\n",
    "from matplotlib import rcParams\n",
    "from matplotlib import rc\n",
    "\n",
    "plt.style.use('default')\n",
    "\n",
    "rcParams[ 'axes.titlesize'] = 25\n",
    "rcParams[ 'axes.labelsize'] = 25\n",
    "rcParams[ 'lines.markersize'] = 5\n",
    "rcParams[ 'xtick.labelsize'] = 22\n",
    "rcParams[ 'ytick.labelsize'] = 22\n",
    "rcParams[ 'legend.fontsize'] = 25\n",
    "rcParams[ 'legend.frameon'] = True\n",
    "\n",
    "# mpl.rc('font', family='sans-serif')\n",
    "mpl.rc('text', usetex=True)\n",
    "\n",
    "mpl.rcParams['text.latex.preamble'] = [\n",
    "       r'\\usepackage{amsmath}',\n",
    "       r'\\usepackage{helvet}',    # set the normal font here\n",
    "       r'\\usepackage{sansmath}',  # load up the sansmath so that math -> helvet\n",
    "       r'\\sansmath'               # <- tricky! -- gotta actually tell tex to use!\n",
    "] \n",
    "\n"
   ]
  },
  {
   "cell_type": "code",
   "execution_count": 2,
   "metadata": {},
   "outputs": [],
   "source": [
    "from dmft import dmft_self_consistent\n",
    "from parameter import parameter"
   ]
  },
  {
   "cell_type": "code",
   "execution_count": 3,
   "metadata": {},
   "outputs": [
    {
     "name": "stderr",
     "output_type": "stream",
     "text": [
      "/Users/huhaoyu/Desktop/dmft/mps_imp_wf/dmft.py:347: IntegrationWarning: The maximum number of subdivisions (50) has been achieved.\n",
      "  If increasing the limit yields no improvement it is advised to analyze \n",
      "  the integrand in order to determine the difficulties.  If the position of a \n",
      "  local difficulty can be determined (singularity, discontinuity) one will \n",
      "  probably gain from splitting up the interval and calling the integrator \n",
      "  on the subranges.  Perhaps a special-purpose integrator should be used.\n",
      "  vl_square = integrate.quad(f, w-self.para.dw_bath/2.0, w + self.para.dw_bath/2.0 )\n"
     ]
    }
   ],
   "source": [
    "Dmax = 250\n",
    "\n",
    "U_hubbard = 0.5# density interaction\n",
    "JH        = 0.1 # Hund's\n",
    "\n",
    "U ={ '12':U_hubbard, '13':U_hubbard - 0.5 * JH, '14':U_hubbard, '23':U_hubbard, '24':U_hubbard - 0.5 * JH, '34':U_hubbard }\n",
    "J = -0.5 * JH\n",
    "ed = np.ones( 4 ) * ( -1.5 * U_hubbard ) #fix half filling\n",
    "E0 = 0.0\n",
    "para = parameter( D = Dmax, ed = ed, U = U , J = J ,E0 = E0, N_ = 30 )\n",
    "#--------------------------------\n",
    "#      init solver\n",
    "#--------------------------------\n",
    "\n",
    "solver = dmft_self_consistent(para)\n",
    "solver.initialize_()\n"
   ]
  },
  {
   "cell_type": "code",
   "execution_count": 4,
   "metadata": {},
   "outputs": [
    {
     "name": "stdout",
     "output_type": "stream",
     "text": [
      " Imag time:  0  En =  [[-4.6685342+0.j]]  En diff =  [[1.28245459e-08]] dtau =  2.0  total time =  0.00018851757049560548\n",
      " Imag time:  5  En =  [[-4.77369796+0.j]]  En diff =  [[0.10516376]] dtau =  1.0  total time =  0.0013629674911499023\n",
      " Imag time:  10  En =  [[-4.77369796+0.j]]  En diff =  [[2.79993806e-10]] dtau =  1.0  total time =  0.002050634225209554\n",
      " Imag time:  15  En =  [[-4.79283452+0.j]]  En diff =  [[0.01913656]] dtau =  0.5  total time =  0.0027084509531656903\n",
      " Imag time:  20  En =  [[-4.79435269+0.j]]  En diff =  [[0.00151817]] dtau =  0.25  total time =  0.0033641338348388674\n",
      " Imag time:  25  En =  [[-4.79472795+0.j]]  En diff =  [[0.00037526]] dtau =  0.25  total time =  0.004229533672332764\n",
      " Imag time:  30  En =  [[-4.79472891+0.j]]  En diff =  [[9.60776316e-07]] dtau =  0.25  total time =  0.004871730009714762\n",
      " Imag time:  35  En =  [[-4.79486162+0.j]]  En diff =  [[0.00013271]] dtau =  0.125  total time =  0.0059967835744222\n",
      " Imag time:  40  En =  [[-4.79486819+0.j]]  En diff =  [[6.56715299e-06]] dtau =  0.0625  total time =  0.00664521853129069\n",
      " Imag time:  41  En =  [[-4.79486967+0.j]]  En diff =  [[1.48261402e-06]] dtau =  0.03125  total time =  0.006895732879638672\n",
      " Imag time:  42  En =  [[-4.79487032+0.j]]  En diff =  [[6.45772218e-07]] dtau =  0.015625  total time =  0.007131902376810709\n",
      "Solved\n",
      " Real time:  0   gplus  (0.4954761732390873+0j)  total time =  0.00797191858291626\n",
      " Real time:  1   gplus  (0.47829824216019234-0.12890999791617724j)  total time =  0.00819778045018514\n",
      " Real time:  2   gplus  (0.42797070019363875-0.24880121702500385j)  total time =  0.008328501383463542\n",
      " Real time:  3   gplus  (0.3480274141695036-0.35128914817555384j)  total time =  0.00846194823582967\n",
      " Real time:  4   gplus  (0.24408118145710472-0.4292131747532225j)  total time =  0.008636252085367838\n",
      " Real time:  5   gplus  (0.12342875394176887-0.4771400452152367j)  total time =  0.008778901894887288\n",
      " Real time:  6   gplus  (-0.005462623393427673-0.49174575683817223j)  total time =  0.008910969893137614\n",
      " Real time:  7   gplus  (-0.13355101270093378-0.47204897226742626j)  total time =  0.00906056563059489\n",
      " Real time:  8   gplus  (-0.2518559795885015-0.4194795427448538j)  total time =  0.009245685736338298\n",
      " Real time:  9   gplus  (-0.35209039953414206-0.33777732055223j)  total time =  0.009377566973368327\n",
      " Real time:  10   gplus  (-0.4272433981952234-0.23272839095507464j)  total time =  0.009506734212239583\n",
      " Real time:  11   gplus  (-0.4720733904348058-0.1117572996018184j)  total time =  0.009629333019256591\n",
      " Real time:  12   gplus  (-0.4834765128765866+0.016596010885231383j)  total time =  0.009754900137583416\n",
      " Real time:  13   gplus  (-0.46070451808899315+0.14327772522952958j)  total time =  0.00989224910736084\n",
      " Real time:  14   gplus  (-0.4054167974085504+0.2593577876925774j)  total time =  0.01001884937286377\n",
      " Real time:  15   gplus  (-0.32156287773276215+0.35665874782222307j)  total time =  0.010142250855763753\n",
      " Real time:  16   gplus  (-0.21510367313920556+0.42833154492899134j)  total time =  0.010277533531188964\n",
      " Real time:  17   gplus  (-0.09359112460995754+0.4693376930931499j)  total time =  0.01040416955947876\n",
      " Real time:  18   gplus  (0.034364168798778+0.4768039191932529j)  total time =  0.01052778164545695\n",
      " Real time:  19   gplus  (0.15969983823409217+0.4502242871706506j)  total time =  0.010658081372578938\n",
      " Real time:  20   gplus  (0.273540417376811+0.39149558021434777j)  total time =  0.01078046957651774\n",
      " Real time:  21   gplus  (0.36782282598312527+0.3047834527249506j)  total time =  0.010910332202911377\n",
      " Real time:  22   gplus  (0.4358646207079615+0.1962287792298029j)  total time =  0.011038283507029215\n",
      " Real time:  23   gplus  (0.47283499914968163+0.07351487897877886j)  total time =  0.011160918076833089\n",
      " Real time:  24   gplus  (0.47609539015673435-0.054673909412675956j)  total time =  0.011285134156545003\n",
      " Real time:  25   gplus  (0.4453856457004769-0.17926417884975307j)  total time =  0.011477851867675781\n",
      " Real time:  26   gplus  (0.3828427205690055-0.29143283987626517j)  total time =  0.011691002051035564\n",
      " Real time:  27   gplus  (0.29285052040828374-0.3832289196601088j)  total time =  0.01182099978129069\n",
      " Real time:  28   gplus  (0.18173148585622428-0.44813398925358844j)  total time =  0.011948180198669434\n",
      " Real time:  29   gplus  (0.0573016237660324-0.48152175500738637j)  total time =  0.012081034978230794\n",
      " Real time:  0   gminus  (0.504523826760912+0j)  total time =  0.012210166454315186\n",
      " Real time:  1   gminus  (0.4871977832906777+0.13064294986734162j)  total time =  0.012341447671254476\n",
      " Real time:  2   gminus  (0.43642503112322617+0.25223087148091305j)  total time =  0.012469263871510823\n",
      " Real time:  3   gminus  (0.35573766567239035+0.3563396561840553j)  total time =  0.01259608268737793\n",
      " Real time:  4   gminus  (0.2507482429449148+0.43576303536446165j)  total time =  0.012729183832804362\n",
      " Real time:  5   gminus  (0.1287584809816437+0.485014571480194j)  total time =  0.0128500501314799\n",
      " Real time:  6   gminus  (-0.001749789464185584+0.5007097130947169j)  total time =  0.012974051634470622\n",
      " Real time:  7   gminus  (-0.13170592141244555+0.48180127269573636j)  total time =  0.013101569811503093\n",
      " Real time:  8   gminus  (-0.25208275569207345+0.4296519095744517j)  total time =  0.013225901126861572\n",
      " Real time:  9   gminus  (-0.3545258333482494+0.34793856860874495j)  total time =  0.013349632422129313\n",
      " Real time:  10   gminus  (-0.431935633572111+0.24239554646536918j)  total time =  0.013481680552164714\n",
      " Real time:  11   gminus  (-0.4789622314338954+0.1204141119932444j)  total time =  0.013611332575480143\n",
      " Real time:  12   gminus  (-0.49237787903944485-0.009473387632586656j)  total time =  0.01373908519744873\n",
      " Real time:  13   gminus  (-0.47130152914113405-0.13818894697234108j)  total time =  0.013880435625712078\n",
      " Real time:  14   gminus  (-0.41725964775567653-0.25674231429976446j)  total time =  0.014006682236989339\n",
      " Real time:  15   gminus  (-0.334079081616173-0.3568582120498739j)  total time =  0.014132833480834961\n",
      " Real time:  16   gminus  (-0.22761946080775664-0.43155361498648415j)  total time =  0.014260363578796387\n",
      " Real time:  17   gminus  (-0.10536380960630198-0.47562481970328696j)  total time =  0.014385302861531576\n",
      " Real time:  18   gminus  (0.024104071340450072-0.4860103320545532j)  total time =  0.014510917663574218\n",
      " Real time:  19   gminus  (0.15169899062384445-0.4620042617622357j)  total time =  0.014636615912119547\n",
      " Real time:  20   gminus  (0.268468704150699-0.40530534152908115j)  total time =  0.014759234587351481\n",
      " Real time:  21   gminus  (0.3662189526381139-0.31989815412589084j)  total time =  0.014957265059153239\n",
      " Real time:  22   gminus  (0.43808559452996637-0.21177485533403417j)  total time =  0.015184768040974935\n",
      " Real time:  23   gminus  (0.47901392088351785-0.08851680691100379j)  total time =  0.015345966815948487\n",
      " Real time:  24   gminus  (0.4861117133914506+0.041234694168281974j)  total time =  0.015481348832448323\n",
      " Real time:  25   gminus  (0.45885141377817446+0.1683816676768845j)  total time =  0.015680420398712158\n",
      " Real time:  26   gminus  (0.39910729803282313+0.284004599963371j)  total time =  0.01581371625264486\n",
      " Real time:  27   gminus  (0.31102505816548204+0.37998518288595745j)  total time =  0.015947918097178142\n",
      " Real time:  28   gminus  (0.20073288461281055+0.4495731983328516j)  total time =  0.016070250670115152\n",
      " Real time:  29   gminus  (0.07591419864901748+0.4878580003439312j)  total time =  0.016195785999298096\n",
      " spectrum function of bath, value error  -1.6349001900452313\n"
     ]
    },
    {
     "name": "stderr",
     "output_type": "stream",
     "text": [
      "/Users/huhaoyu/Desktop/dmft/mps_imp_wf/dmft.py:358: IntegrationWarning: The maximum number of subdivisions (50) has been achieved.\n",
      "  If increasing the limit yields no improvement it is advised to analyze \n",
      "  the integrand in order to determine the difficulties.  If the position of a \n",
      "  local difficulty can be determined (singularity, discontinuity) one will \n",
      "  probably gain from splitting up the interval and calling the integrator \n",
      "  on the subranges.  Perhaps a special-purpose integrator should be used.\n",
      "  el_it = integrate.quad(g, w - self.para.dw_bath / 2.0, w + self.para.dw_bath / 2.0)\n"
     ]
    }
   ],
   "source": [
    "solver.dmft_iteration(if_load_from_data = False)"
   ]
  },
  {
   "cell_type": "code",
   "execution_count": 5,
   "metadata": {},
   "outputs": [],
   "source": [
    "T_ = {}\n",
    "T_gnd = solver.tebd.chain_mpo[0].T_gnd\n",
    "for i in T_gnd:\n",
    "    T_[i]=(T_gnd[i]).copy()"
   ]
  },
  {
   "cell_type": "code",
   "execution_count": 6,
   "metadata": {},
   "outputs": [
    {
     "ename": "NameError",
     "evalue": "name 'T_2' is not defined",
     "output_type": "error",
     "traceback": [
      "\u001b[0;31m---------------------------------------------------------------------------\u001b[0m",
      "\u001b[0;31mNameError\u001b[0m                                 Traceback (most recent call last)",
      "\u001b[0;32m<ipython-input-6-0c2f544621d3>\u001b[0m in \u001b[0;36m<module>\u001b[0;34m\u001b[0m\n\u001b[1;32m      1\u001b[0m \u001b[0;32mfor\u001b[0m \u001b[0mi\u001b[0m \u001b[0;32min\u001b[0m \u001b[0mT_\u001b[0m\u001b[0;34m:\u001b[0m\u001b[0;34m\u001b[0m\u001b[0;34m\u001b[0m\u001b[0m\n\u001b[0;32m----> 2\u001b[0;31m     \u001b[0mdiff\u001b[0m \u001b[0;34m=\u001b[0m \u001b[0mT_\u001b[0m\u001b[0;34m[\u001b[0m\u001b[0mi\u001b[0m\u001b[0;34m]\u001b[0m\u001b[0;34m-\u001b[0m \u001b[0mT_2\u001b[0m\u001b[0;34m[\u001b[0m\u001b[0mi\u001b[0m\u001b[0;34m]\u001b[0m\u001b[0;34m\u001b[0m\u001b[0;34m\u001b[0m\u001b[0m\n\u001b[0m\u001b[1;32m      3\u001b[0m     \u001b[0mdiff\u001b[0m \u001b[0;34m=\u001b[0m \u001b[0mnp\u001b[0m\u001b[0;34m.\u001b[0m\u001b[0mmax\u001b[0m\u001b[0;34m(\u001b[0m \u001b[0mnp\u001b[0m\u001b[0;34m.\u001b[0m\u001b[0mabs\u001b[0m\u001b[0;34m(\u001b[0m\u001b[0mdiff\u001b[0m\u001b[0;34m)\u001b[0m \u001b[0;34m)\u001b[0m\u001b[0;34m\u001b[0m\u001b[0;34m\u001b[0m\u001b[0m\n\u001b[1;32m      4\u001b[0m     \u001b[0mprint\u001b[0m\u001b[0;34m(\u001b[0m\u001b[0mi\u001b[0m\u001b[0;34m,\u001b[0m \u001b[0mdiff\u001b[0m\u001b[0;34m)\u001b[0m\u001b[0;34m\u001b[0m\u001b[0;34m\u001b[0m\u001b[0m\n\u001b[1;32m      5\u001b[0m \u001b[0;34m\u001b[0m\u001b[0m\n",
      "\u001b[0;31mNameError\u001b[0m: name 'T_2' is not defined"
     ]
    }
   ],
   "source": [
    "for i in T_:\n",
    "    diff = T_[i]- T_2[i]\n",
    "    diff = np.max( np.abs(diff) )\n",
    "    print(i, diff)\n",
    "    "
   ]
  },
  {
   "cell_type": "code",
   "execution_count": null,
   "metadata": {},
   "outputs": [],
   "source": [
    "plt.plot(solver.para.w, solver.g_w[0], '-o')\n",
    "plt.plot(solver.para.w, solver.g_loc[0], '-<')\n",
    "plt.show()\n",
    "\n",
    "plt.plot(solver.para.w, solver.g_w[2], '-o')\n",
    "plt.plot(solver.para.w, solver.g_loc[2], '-<')\n",
    "plt.show()"
   ]
  },
  {
   "cell_type": "code",
   "execution_count": null,
   "metadata": {
    "scrolled": true
   },
   "outputs": [],
   "source": [
    "plt.plot(solver.t_list, np.real( solver.g_t[0] ),'-o')\n",
    "plt.plot(solver.t_list, np.imag( solver.g_t[0] ),'-o')"
   ]
  },
  {
   "cell_type": "code",
   "execution_count": null,
   "metadata": {},
   "outputs": [],
   "source": [
    "print( solver.para.T, solver.para.t)"
   ]
  },
  {
   "cell_type": "code",
   "execution_count": null,
   "metadata": {},
   "outputs": [],
   "source": [
    "plt.plot( solver.para.w, -np.imag( solver.para.ft @ solver.g_t[0]),'-o')"
   ]
  },
  {
   "cell_type": "code",
   "execution_count": null,
   "metadata": {},
   "outputs": [],
   "source": [
    "import main"
   ]
  },
  {
   "cell_type": "code",
   "execution_count": null,
   "metadata": {},
   "outputs": [],
   "source": []
  },
  {
   "cell_type": "code",
   "execution_count": null,
   "metadata": {},
   "outputs": [],
   "source": []
  }
 ],
 "metadata": {
  "kernelspec": {
   "display_name": "Python 3",
   "language": "python",
   "name": "python3"
  },
  "language_info": {
   "codemirror_mode": {
    "name": "ipython",
    "version": 3
   },
   "file_extension": ".py",
   "mimetype": "text/x-python",
   "name": "python",
   "nbconvert_exporter": "python",
   "pygments_lexer": "ipython3",
   "version": "3.7.6"
  }
 },
 "nbformat": 4,
 "nbformat_minor": 2
}
